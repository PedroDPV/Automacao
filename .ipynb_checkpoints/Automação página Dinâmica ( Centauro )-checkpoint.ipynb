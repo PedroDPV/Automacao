{
 "cells": [
  {
   "cell_type": "markdown",
   "id": "282d1dff",
   "metadata": {},
   "source": [
    "# Entra no site do Reclame aqui de uma determinada empresa e coletar :\n",
    "### Títulos das reclamções\n",
    "### Link das reclamções\n",
    "### O texto da reclamação"
   ]
  },
  {
   "cell_type": "code",
   "execution_count": 9,
   "id": "9c681f6c",
   "metadata": {},
   "outputs": [
    {
     "name": "stderr",
     "output_type": "stream",
     "text": [
      "C:\\Users\\pedro\\AppData\\Local\\Temp/ipykernel_4652/3503402256.py:11: DeprecationWarning: find_element_by_* commands are deprecated. Please use find_element() instead\n",
      "  driver.find_element_by_id('onetrust-accept-btn-handler').click()\n",
      "C:\\Users\\pedro\\AppData\\Local\\Temp/ipykernel_4652/3503402256.py:28: DeprecationWarning: find_elements_by_class_name is deprecated. Please use find_elements(by=By.CLASS_NAME, value=name) instead\n",
      "  titulos_p1 = driver.find_elements_by_class_name('sc-1pe7b5t-1.fTrwHU')\n",
      "C:\\Users\\pedro\\AppData\\Local\\Temp/ipykernel_4652/3503402256.py:34: DeprecationWarning: find_elements_by_css_selector is deprecated. Please use find_elements(by=By.CSS_SELECTOR, value=css_selector) instead\n",
      "  links_p1 = driver.find_elements_by_css_selector('a')\n"
     ]
    },
    {
     "name": "stdout",
     "output_type": "stream",
     "text": [
      "['Produto com defeito e sem suporte para troca', 'Dificuldade para cancelar pedido duplicado', 'Continuo sem reembolso ', 'Pedido devolvido e valor não estornado', 'Comprei um calçado que não serviu e a centauro não realiza a troca e sequer me responde', 'Troca não reembolsado e falta de resposta', 'Tentativa de entrar em contato com SAC', 'Pedido consta entregue , sendo que não recebi.', 'Olá, me chamo Edison ', 'Impossível resolver problemas de compra online', 'Qualidade Ruim ', 'Não fazem estorno de compra.', 'Devolução de valor pago', 'Vale troca', 'cancelamento devolução pagamento', 'Minha camisa não chegou', 'CANCELAMENTO PEDIDO ', 'Cancelamento', 'Compra não foi entregue', 'Comprei e não consigo cancelar nem mudar endereço de entrega']\n",
      "20\n",
      "[['https://www.reclameaqui.com.br/centauro-loja-fisica/produto-com-defeito-e-sem-suporte-para-troca_nFHUZc4aKzaMgzVv/', 'https://www.reclameaqui.com.br/centauro-loja-fisica/dificuldade-para-cancelar-pedido-duplicado_zg87bD1lxlZeWVAr/', 'https://www.reclameaqui.com.br/centauro-loja-fisica/continuo-sem-reembolso_T_JD5XMjIVSr0ZLY/', 'https://www.reclameaqui.com.br/centauro-loja-fisica/pedido-devolvido-e-valor-nao-estornado_o_sG5-70QUGeUDGx/', 'https://www.reclameaqui.com.br/centauro-loja-fisica/comprei-um-calcado-que-nao-serviu-e-a-centauro-nao-realiza-a-troca-e-sequer_HVmx-78rSA3ZcYlT/', 'https://www.reclameaqui.com.br/centauro-loja-fisica/troca-nao-reembolsado-e-falta-de-resposta_iyFzJgbhyzdIvd-f/', 'https://www.reclameaqui.com.br/centauro-loja-fisica/tentativa-de-entrar-em-contato-com-sac_EP-FwLouYZEyB_7L/', 'https://www.reclameaqui.com.br/centauro-loja-fisica/pedido-consta-entregue-sendo-que-nao-recebi_WGODDS8czt13wrhy/', 'https://www.reclameaqui.com.br/centauro-loja-fisica/ola-me-chamo-edison_HJ0dELrH-CLYzZtT/', 'https://www.reclameaqui.com.br/centauro-loja-fisica/impossivel-resolver-problemas-de-compra-online_ckdKc_x3EcXdiBvt/'], ['https://www.reclameaqui.com.br/centauro-loja-fisica/qualidade-ruim_G1Uu9WIHe31vknve/', 'https://www.reclameaqui.com.br/centauro-loja-fisica/nao-fazem-estorno-de-compra_THlmcyRtXKAW7g60/', 'https://www.reclameaqui.com.br/centauro-loja-fisica/devolucao-de-valor-pago_zwCGcJxCcBME9VE7/', 'https://www.reclameaqui.com.br/centauro-loja-fisica/vale-troca_jv-ufPJ7nl1fcS76/', 'https://www.reclameaqui.com.br/centauro-loja-fisica/cancelamento-devolucao-pagamento_6bS343E3lIz6OVuN/', 'https://www.reclameaqui.com.br/centauro-loja-fisica/minha-camisa-nao-chegou_CCCkzJ-Du53jAelK/', 'https://www.reclameaqui.com.br/centauro-loja-fisica/cancelamento-pedido_Yfo29qfAl6isG_uT/', 'https://www.reclameaqui.com.br/centauro-loja-fisica/cancelamento_EqovQpehFun3voYx/', 'https://www.reclameaqui.com.br/centauro-loja-fisica/compra-nao-foi-entregue_cHUJCXfRRGnzeV4Z/', 'https://www.reclameaqui.com.br/centauro-loja-fisica/comprei-e-nao-consigo-cancelar-nem-mudar-endereco-de-entrega_2SjIIY73GHg1rmJf/']]\n",
      "2\n",
      "['Tentei duas vezes trocar alguns produtos da C&A e achei extremamente complicado, cheia de códigos e mesmo eu comprando os produtos juntos, tem q enviar separado, com código de pedido + código de troca + declaração de conteúdo, e fui mais de duas vezes no correio e não consegui enviar.Na última tentativa, q pedi dia 4 de março, eu quebrei meu pé e não consegui ir ao correio, só consigo ir agora de robofoot. Mas meu código expirou.Portando gostaria que a C&A me mandasse novos códigos porque eu não tinha ideia da burocracia, o q me prejudicou muito, e um de saúde, o que impossibilitou a troca.', 'Comprei um tenis no dia 09/02/22, com pedido N: 935860903.O mesmo apresentou defeito, onde esta descolando o cabedal do solado.Desde o dia 08/04 tento contato com a empresa pelo chat, pelo whatsapp e não consigo.Ja cheguei a passar 5 hs aguardando atendimento e apos esse tempo chega mensagem informando que atendimento foi encerrado e pedindo que entre em contato no dia seguinte que terei prioridade.Hoje, 12/04, passei mais de 1 hora em espera numa ligacao para o numero (11) 2322-3730 e nao fui atendido.Verdadeiro desrepeito e descaso com consumidor.Quero saber como vou ficar.Protocolo centauro do atendimento que fiquei ouvindo musica: 2434025', 'Dia 11/04 tentei realizar a compra de um par de chuteiras para meu filho pelo aplicativo, quando o mesmo retornou a mensagem de erro. Então tentei novamente, porém foram gerados dois pedidos idênticos (937208189 e 937208243).Estou tentando cancelar um dos pedidos, porém não estou conseguindo por nenhum canal.', 'Recebi um e mail com a informação de que receberia vale troca, porém o que solicitei foi reembolso do valor pago. Mesmo assim, entrei no site para ver eu tinha um vale trocas, e não tenho . Já respondi via e mail e não abstenho resposta . ', 'Realizei um pedido (Número do pedido: 936700792) no dia 17/03/2022 na Centauro, coloquei o meu endereço certinho, mas mesmo assim o meu pedido não foi entregue. Recebi um e-mail depois pedindo que eu atualizasse o meu endereço, fiz o que pediam, enviei um e-mail com a atualização do meu endereço ( sem necessidade pois eu já tinha fornecido isso no site no momento da minha compra, mas enfim). No entanto, mesmo depois disto o meu pedido não foi entregue e foi devolvido para o remetente sem nem ao menos tentarem entregar no meu endereço especificado. Sendo assim, eu quero que o meu dinheiro seja estornado para os meios de pagamento que foram utilizados.', 'Comprei um calçado recentemente pelo site da centauro porém ele não serviu, tentei realizar a troca pelo site e pelo aplicativo porém fui apenas redirecionado para o whatsapp da loja, falei com o robo até que ele pediu que eu aguardasse um atendente, passou mais de uma hora em ninguem foi capaz de sequer responder. Resolvi então ligar na central de atendimento onde fiquei mais de duas horas esperando e não fui atendido. Agora estou com um tênis q não serve  e que não consigo de maneira alguma trocar.', 'Dia 10/03 efetuei a compra de 4 produtos através do site da Centauro (PEDIDO 936562839) Dois dos produtos -duas blusas- ficaram pequenos e logo efetuei a devolução e solicitei estorno do valor em fatura.Acontece que desde então não consigo um contato satisfatório com a empresa. Primeio me mandaram o código de envio para devolução  quando eu já havia devolvido o produto e o mesmo já constava como entregue. Depois recebi um email falando que em 24hrs meu vale presente estaria disponível no site (sendo que optei por estorno) e no dia seguinte, outro email dizendo que em até 72hrs entrariam em contato para falar sobre o estorno em fatura.Até hoje, dia 12, nada foi resolvido. E desde o dia 5 não obtenho resposta aos emails enviados. ', 'Estou tentando entrar em contato com algum atendente e não atendem a ligação!Passo mais de 30min aguardando alguém atender e ninguém da uma satisfação!Loja péssima..', 'Fiz um pedido na Centauro de duas camisetas Nike infantil sendo uma tamanho 10 a outra tamnho 08 , número do Pedido 937051531. Na sexta feira dia 08/ 04 recebi um e-mail que o p Dido foi entregue, como tá no endereço de trabalho do meu esposo não foi localizado então esperamos até segunda para tentar encontra na mensageira não foi localizado.estou tentando contato com a centauro pelos meios de comunicação sem suc são tenho vários protocolos mas não consigo falar com atendente por telefone só uma música irritante , enviei e-mail não fui respondida. Aguardo contato por meio do reclame aqui . O atendimento ao cliente da centauro e péssimo nem tem esse serviço. ', 'Fiz uma compra na loja Centauro no dia 06/04, porém, o pagamento foi cancelado/recusado, mas o valor foi créditado no meu cartão de crédito e ainda não foi estornado. ', 'Comprei um presente para o meu pai para o Natal do ano passado. Ele acabou não gostando do item e ai que começou toda a minha saga.O meu status do pedido no site consta até hoje como \"Emitindo Nota Fiscal\", desse modo, não tenho a opção de \"Solicitar Troca\" disponível para o meu produto. Fui à loja tentar realizar a troca física, entretanto, como foi um produto vendido por parceiro, a Umbro, não consegui realizar a troca na loja.Tento entrar em contato com a loja quase que diariamente via Whatsapp, aguardo o dia inteiro, ninguém me responde e ao final do dia eles encerram as tratativas por falta de interação, interação DELES.Migrei para a terceira tentativa de resolução, ligação telefônica, mas mais uma vez, eles não atendem e eu fico ouvindo essa musiquinha por horas.Basicamente, se você tem um problema com uma compra online da Centauro, VOCÊ NÃO RESOLVE SIMPLESMENTE PORQUE ELES NÃO QUEREM FALAR COM VOCÊ.Fim da história, estou esses meses todos ainda sem resolver o problema, com o produto aqui e o dinheiro perdido. NUNCA MAIS REALIZO COMPRA ONLINE NA CENTAURO, PIOR JORNADA DE NÃO ATENDIMENTO QUE EU JA PRESENCIEI.Vamos ver se por aqui eles me respondem agora.', 'Comprei um tênis da Nike na centauro a pouco tempo, 3 meses. E utilizo ele apenas para academia, sem grandes exigências que é o que ele se propões a aguentar e a cola da sola na parte da frente descolou apenas com esse uso baixo e estou extremamente decepcionada com a qualidade entregue. Pois havia outros tênis mais baratos e escolhi pagar mais caro para ter um produto por mais tempo e não foi isso que recebi. ', 'Comprei um presente para meu namorado em fevereiro, o produto veio com defeito e fui até a loja física para devolver e solicitar reembolso, o funcionário informou que o protocolo havia sido aberto. Como utilizei duas formas de pagamento diferentes, entraram em contato para que eu possa informar a conta para o estorno, fiz isso DUAS vezes e fui ignorada, recebi email hoje, muito tempo depois falando que o estorno da menor parte do valor será feita em até 10 dias úteis, no entanto, nenhuma informação a respeito dos outros RS 119.99 da compra. Estou extremamente desapontada com o serviço péssimo da loja, o reembolso do produto é um direito do consumidor, já faz mais de 5 semanas e nada de informação sobre.', 'Efetuei uma compra em 16/03/22 de um tênis e uma camiseta. O tênis chegou, porém, a camiseta foi cancelada por problemas operacionais.Resolvi então aceitar um vale troca e comprei outra camiseta de pedido 93605256 em 23/03/22.A camiseta chegou sem etiqueta da marca Adidas, sem embalagem plástica, com aspecto de velha e com dois furos nas costas.Imediatamente devolvi, postei nos correios em 28/03/22, código de postagem 2007248749 liberada para devolução, chegou ao destino em 01/04/22 e até o momento não recebi retorno, nem meu estorno em meu cartão de crédito.Ao tentar o chat via zap, envia mensagem pela manhã e alguém responde somente a noite, onde não posso atender e não resolvo meu problema.Ao ligar pro tel 4004-8008, vc mofa no telefone e não consegue ser atendido.Estou totalmente insatisfeita, quero a devolução do que paguei!!!!Já não é a primeira vez q tenho problema com a Centauro, mas dei crédito e novamente tive problemas!!!Preciso do meu dinheiro de volta!!!!', 'Tenho um vale troca vencido. Mas não sabia que tinha prazo p uso. Tente fazer a compra dia 20, mas o vale tava com vencimento dia 18. Como tinha sido uma diferença de 2 dias, o atendente ficou de solicitar a autorização do uso do vale e me retornar por e-mail. Só que já se passaram duas semanas e nada de resposta. Liguei milhões de vezes na Centauro e ninguém atende. Fico na linha por 20 min esperando atendimento. Agora mesmo estou aguardando atendimento e nada.Quero meu vale de volta. ', 'no dia 09-03 efetuei compra site numero pedido 936540714 e logo em seguida fiz cancelamento mais msm assim tenis chegou em meu endereço fiz o cancelamento pelo propio site e me enviaram codigo de postagem no dia 16-03-2022 fiz a postagem do msm e ate agora não extornaram pagamento no cartao credito ', 'Comprei duas camisetas da puma nodiia 06/04 com previsão de entrega para o dia 07/04 e até agora nada.', 'FIZ UMA COMPRA PELO SITE DIA 15-03-2022 PEDIDO NUMERO 936666526 E CANCELEI PEDIDO PELO PROPIO SITE E ATE AGORA NINGUEM ME DEU POSIÇÃO DE COMO FICOU TENTEI CONTATO PELO WATS ELES NAO RETORNAM O TENIS NÃO FOI ENTREGUE E A COBRANÇA ESTA SENDO FEITA EM MEU CARTAO CREDITO , QUERO CANCELAMENTO URGENTE DOS PAGAMENTOS ', 'Fiz uma compra pelo aplicativo da Centauro e estou tentando há dois dias seguidos entrar em contato com alguém para efetivar o cancelamento, porque o endereço de entrega está errado e não consigo ser atendido de forma alguma. ', 'Fiz uma compra no site da Centauro e até o momento não recebi a encomenda.Pedido 936955589 em 32/03/2022.']\n",
      "20\n"
     ]
    }
   ],
   "source": [
    "import time\n",
    "import pandas as pd\n",
    "from selenium import webdriver\n",
    "from bs4 import BeautifulSoup\n",
    "import requests\n",
    "\n",
    "driver = webdriver.Chrome()\n",
    "driver.get('https://www.reclameaqui.com.br/empresa/centauro-loja-fisica/lista-reclamacoes/')\n",
    "time.sleep(1)\n",
    "#ACEITAR COOKIES\n",
    "driver.find_element_by_id('onetrust-accept-btn-handler').click()\n",
    "#PEGAR O TITULO DAS 10 RECLAMAÇÕES DA PAGINA:\n",
    "\n",
    "al1 = []\n",
    "al2 = []\n",
    "titulos = []\n",
    "primeiros_links = []\n",
    "allrefs = []\n",
    "qtd_paginas = 3\n",
    "\n",
    "\n",
    "\n",
    "for pagina in range(qtd_paginas):    \n",
    "    if pagina == 0:\n",
    "        pass\n",
    "    else:\n",
    "        driver.get(f'https://www.reclameaqui.com.br/empresa/centauro-loja-fisica/lista-reclamacoes/?pagina={pagina}')       \n",
    "        titulos_p1 = driver.find_elements_by_class_name('sc-1pe7b5t-1.fTrwHU')\n",
    "        for titulo in titulos_p1:                        \n",
    "            al1 = titulo.get_attribute('title')\n",
    "            titulos.append(al1)\n",
    "            \n",
    "        driver.get(f'https://www.reclameaqui.com.br/empresa/centauro-loja-fisica/lista-reclamacoes/?pagina={pagina}')\n",
    "        links_p1 = driver.find_elements_by_css_selector('a')\n",
    "        for link in links_p1:\n",
    "            al2 = link.get_attribute('href')\n",
    "            allrefs.append(al2)\n",
    "            linksuteis = allrefs[128:138]\n",
    "            \n",
    "        primeiros_links.append(linksuteis)\n",
    "        linksuteis = []\n",
    "        allrefs = []\n",
    "\n",
    "print (titulos)\n",
    "print (len(titulos))\n",
    "print (primeiros_links)\n",
    "print (len(primeiros_links))\n",
    "\n",
    "headers = {'user-agent': 'Mozilaa/5.0'}\n",
    "pagina = requests.get('https://www.reclameaqui.com.br/centauro-loja-fisica/troca-complicada-e-expirada_E5l9PbpCY5wwJJc3/',\n",
    "                     headers = headers)\n",
    "\n",
    "pagina.text\n",
    "sopa = pagina.text\n",
    "sopa = BeautifulSoup(sopa, 'html.parser')\n",
    "\n",
    "reclamacao = sopa.find_all('p' , {'data-testid':'complaint-description'})\n",
    "\n",
    "# PEGAR TODAS AS 10 RECLAMAÇÕES DAS PAGINAS ESCOLHIDAS :\n",
    "\n",
    "all_reclamacoes = []\n",
    "\n",
    "for pag in primeiros_links:\n",
    "    \n",
    "    for paglink in pag:\n",
    "        headers = {'user-agent': 'Mozilaa/5.0'}\n",
    "        pagina.text\n",
    "        sopa = pagina.text\n",
    "        sopa = BeautifulSoup(sopa, 'html.parser')                        \n",
    "        pagina = requests.get(paglink, headers = headers)\n",
    "        reclamacao = sopa.find_all('p' , {'data-testid':'complaint-description'})\n",
    "        all_reclamacoes.append(reclamacao[0].text)\n",
    "\n",
    "print (all_reclamacoes)\n",
    "print (len(all_reclamacoes))\n"
   ]
  }
 ],
 "metadata": {
  "kernelspec": {
   "display_name": "Python 3 (ipykernel)",
   "language": "python",
   "name": "python3"
  },
  "language_info": {
   "codemirror_mode": {
    "name": "ipython",
    "version": 3
   },
   "file_extension": ".py",
   "mimetype": "text/x-python",
   "name": "python",
   "nbconvert_exporter": "python",
   "pygments_lexer": "ipython3",
   "version": "3.9.7"
  }
 },
 "nbformat": 4,
 "nbformat_minor": 5
}
